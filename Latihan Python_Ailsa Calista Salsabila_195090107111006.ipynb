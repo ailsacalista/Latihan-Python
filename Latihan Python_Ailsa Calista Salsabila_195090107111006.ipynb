{
 "cells": [
  {
   "cell_type": "code",
   "execution_count": 1,
   "id": "5c56d20d-8e12-4406-a918-fd342235bbec",
   "metadata": {},
   "outputs": [
    {
     "name": "stdout",
     "output_type": "stream",
     "text": [
      "b'<?xml version=\"1.0\" encoding=\"UTF-8\" ?>\\n<!DOCTYPE eInfoResult PUBLIC \"-//NLM//DTD einfo 20190110//EN\" \"https://eutils.ncbi.nlm.nih.gov/eutils/dtd/20190110/einfo.dtd\">\\n<eInfoResult>\\n<DbList>\\n\\n\\t<DbName>pubmed</DbName>\\n\\t<DbName>protein</DbName>\\n\\t<DbName>nuccore</DbName>\\n\\t<DbName>ipg</DbName>\\n\\t<DbName>nucleotide</DbName>\\n\\t<DbName>structure</DbName>\\n\\t<DbName>genome</DbName>\\n\\t<DbName>annotinfo</DbName>\\n\\t<DbName>assembly</DbName>\\n\\t<DbName>bioproject</DbName>\\n\\t<DbName>biosample</DbName>\\n\\t<DbName>blastdbinfo</DbName>\\n\\t<DbName>books</DbName>\\n\\t<DbName>cdd</DbName>\\n\\t<DbName>clinvar</DbName>\\n\\t<DbName>gap</DbName>\\n\\t<DbName>gapplus</DbName>\\n\\t<DbName>grasp</DbName>\\n\\t<DbName>dbvar</DbName>\\n\\t<DbName>gene</DbName>\\n\\t<DbName>gds</DbName>\\n\\t<DbName>geoprofiles</DbName>\\n\\t<DbName>homologene</DbName>\\n\\t<DbName>medgen</DbName>\\n\\t<DbName>mesh</DbName>\\n\\t<DbName>ncbisearch</DbName>\\n\\t<DbName>nlmcatalog</DbName>\\n\\t<DbName>omim</DbName>\\n\\t<DbName>orgtrack</DbName>\\n\\t<DbName>pmc</DbName>\\n\\t<DbName>popset</DbName>\\n\\t<DbName>proteinclusters</DbName>\\n\\t<DbName>pcassay</DbName>\\n\\t<DbName>protfam</DbName>\\n\\t<DbName>biosystems</DbName>\\n\\t<DbName>pccompound</DbName>\\n\\t<DbName>pcsubstance</DbName>\\n\\t<DbName>seqannot</DbName>\\n\\t<DbName>snp</DbName>\\n\\t<DbName>sra</DbName>\\n\\t<DbName>taxonomy</DbName>\\n\\t<DbName>biocollections</DbName>\\n\\t<DbName>gtr</DbName>\\n</DbList>\\n\\n</eInfoResult>\\n'\n"
     ]
    }
   ],
   "source": [
    "from Bio import Entrez\n",
    "Entrez.email = \"calistaw23@gmail.com\" #Mandatory! Can be replaced with your personal email.\n",
    "\n",
    "#creating handle\n",
    "handle = Entrez.einfo() #invoking Bio.Entrez.einfo()\n",
    "print(handle.read())\n",
    "handle.close() #always close your handle after you finish\n"
   ]
  },
  {
   "cell_type": "code",
   "execution_count": 2,
   "id": "ed234770-07ee-44ec-99b2-56d068cb5a20",
   "metadata": {},
   "outputs": [
    {
     "name": "stdout",
     "output_type": "stream",
     "text": [
      "{'Count': '15', 'RetMax': '15', 'RetStart': '0', 'IdList': ['2006444328', '1865525635', '1826584392', '1812757660', '1797021460', '1796389208', '1772811180', '1654263523', '1693299435', '1502964168', '1148454777', '356700584', '575524536', '307133667', '307133666'], 'TranslationSet': [{'From': 'Curcuma longa', 'To': '\"Curcuma longa\"[Organism] OR Curcuma longa[All Fields]'}], 'TranslationStack': [{'Term': '\"Curcuma longa\"[Organism]', 'Field': 'Organism', 'Count': '74840', 'Explode': 'Y'}, {'Term': 'Curcuma longa[All Fields]', 'Field': 'All Fields', 'Count': '76967', 'Explode': 'N'}, 'OR', 'GROUP', {'Term': 'ATPF[All Fields]', 'Field': 'All Fields', 'Count': '892258', 'Explode': 'N'}, 'AND', 'GROUP'], 'QueryTranslation': '(\"Curcuma longa\"[Organism] OR Curcuma longa[All Fields]) AND ATPF[All Fields]'}\n"
     ]
    }
   ],
   "source": [
    "from Bio import Entrez\n",
    "Entrez.email = \"calistaw23@gmail.com\" #Mandatory! Can be replaced with your personal email.\n",
    "#creating handle\n",
    "handle = Entrez.esearch(db=\"nuccore\", term=\"Curcuma longa ATPF\")\n",
    "record = Entrez.read(handle)\n",
    "print(record)\n",
    "handle.close() #always close your handle after you finish\n"
   ]
  },
  {
   "cell_type": "code",
   "execution_count": 3,
   "id": "b3b6ae39-276e-468f-ba87-cc319fcd69b4",
   "metadata": {},
   "outputs": [
    {
     "name": "stdout",
     "output_type": "stream",
     "text": [
      "LOCUS       KY485938                 674 bp    DNA     linear   PLN 22-FEB-2017\n",
      "DEFINITION  Curcuma longa AtpF (atpF) gene, partial cds; chloroplast.\n",
      "ACCESSION   KY485938\n",
      "VERSION     KY485938.1\n",
      "KEYWORDS    .\n",
      "SOURCE      chloroplast Curcuma longa (turmeric)\n",
      "  ORGANISM  Curcuma longa\n",
      "            Eukaryota; Viridiplantae; Streptophyta; Embryophyta; Tracheophyta;\n",
      "            Spermatophyta; Magnoliopsida; Liliopsida; Zingiberales;\n",
      "            Zingiberaceae; Curcuma.\n",
      "REFERENCE   1  (bases 1 to 674)\n",
      "  AUTHORS   Santhoshkumar,R. and Yusuf,A.\n",
      "  TITLE     Curcuma longa AtpF (atpF) gene and atpF-atpH intergenic spacer\n",
      "  JOURNAL   Unpublished\n",
      "REFERENCE   2  (bases 1 to 674)\n",
      "  AUTHORS   Santhoshkumar,R. and Yusuf,A.\n",
      "  TITLE     Direct Submission\n",
      "  JOURNAL   Submitted (20-JAN-2017) Department of Botany, University of\n",
      "            Calicut, Malappuram, Kerala 673635, India\n",
      "COMMENT     ##Assembly-Data-START##\n",
      "            Sequencing Technology :: Sanger dideoxy sequencing\n",
      "            ##Assembly-Data-END##\n",
      "FEATURES             Location/Qualifiers\n",
      "     source          1..674\n",
      "                     /organism=\"Curcuma longa\"\n",
      "                     /organelle=\"plastid:chloroplast\"\n",
      "                     /mol_type=\"genomic DNA\"\n",
      "                     /db_xref=\"taxon:136217\"\n",
      "                     /tissue_type=\"leaves\"\n",
      "     gene            complement(<1..111)\n",
      "                     /gene=\"atpF\"\n",
      "     CDS             complement(<1..111)\n",
      "                     /gene=\"atpF\"\n",
      "                     /codon_start=1\n",
      "                     /transl_table=11\n",
      "                     /product=\"AtpF\"\n",
      "                     /protein_id=\"AQS23629.1\"\n",
      "                     /translation=\"MKNVIDSFVYLGHWPYAGSFGFNTDILATKSNKSKCS\"\n",
      "ORIGIN      \n",
      "        1 actacactta gatttattgg attttgttgc taaaatatcg gtattaaacc cgaaacttcc\n",
      "       61 ggcatatggc cagtggccca agtaaacgaa agaatcaatt acatttttca tatattatcc\n",
      "      121 tctcttttct tttggatagg actaacaaag aacagagttc tttttgtatc actccgatcg\n",
      "      181 cccctttttt ttgatcgatt tctttttttt tccactttat ttatttaatg agaataaaag\n",
      "      241 aaatctagta atttcatttg ttttgtttaa attttttaca ttttaaaaaa ttttctaata\n",
      "      301 agatacttta cttagacttt agacttaggt tttagatctg atatcaattg aaaaatattt\n",
      "      361 catttgttga aacacttcca aacaatgaaa ataaaaaagt tttctattgt actaagctaa\n",
      "      421 agacagaaag gaagaaagca agtgaatgcg gtaattcctc atcttcaaat caacccttcc\n",
      "      481 taggtattgt cttaataaat aagtaatttt ttagtaacgt gttaatataa ttctaagaag\n",
      "      541 caaaggaaaa ttccaagtta atagttaata agaaaaaagt ctctaaggta cttttttata\n",
      "      601 ttttgaggat taaacaaaag gattcgcaaa taaaagtgct aatgccacaa ccagtccgta\n",
      "      661 aattgttaaa gctt\n",
      "//\n",
      "\n",
      "\n"
     ]
    }
   ],
   "source": [
    "from Bio import Entrez\n",
    "Entrez.email = \"calistaw23@gmail.com\" #Mandatory! Can be replaced with your personal email.\n",
    "#creating EFetch handle\n",
    "efetch_handle = Entrez.efetch(db=\"nuccore\", id=\"1148454777\", rettype=\"gb\", retmode=\"text\")\n",
    "gbrecord = efetch_handle.read()\n",
    "print(gbrecord)\n"
   ]
  },
  {
   "cell_type": "code",
   "execution_count": 4,
   "id": "3e8dd15e-23e4-43fa-8373-5d454d600183",
   "metadata": {},
   "outputs": [
    {
     "name": "stdout",
     "output_type": "stream",
     "text": [
      "FASTA Download\n"
     ]
    }
   ],
   "source": [
    "import os # import os module for OS utilities\n",
    "from Bio import Entrez\n",
    "Entrez.email = \"calistaw23@gmail.com\" #Mandatory! Can be replaced with your personal email.\n",
    "#creating EFetch handle\n",
    "filename = \"Curcuma longa ATPF.fasta\" #up to you, but FASTA files always use *.fasta or *.fas \n",
    "\n",
    "#creating EFetch handle\n",
    "if not os.path.isfile(filename):\n",
    "    # Downloading file...\n",
    "     efetch_handle = Entrez.efetch(db=\"nuccore\", id=\"1148454777\", rettype=\"fasta\", retmode=\"text\")\n",
    "     output_file_handle = open(filename, \"w\")\n",
    "     output_file_handle.write(efetch_handle.read())\n",
    "     output_file_handle.close()\n",
    "     efetch_handle.close()\n",
    "print (\"FASTA Download\")\n"
   ]
  },
  {
   "cell_type": "code",
   "execution_count": 5,
   "id": "facae88f-e8ea-4af8-8665-b361d6e3521c",
   "metadata": {},
   "outputs": [
    {
     "name": "stdout",
     "output_type": "stream",
     "text": [
      "GB Download\n"
     ]
    }
   ],
   "source": [
    "import os # import os module for OS utilities\n",
    "from Bio import Entrez\n",
    "Entrez.email = \"calistaw23@gmail.com\" #Mandatory! Can be replaced with your personal email.\n",
    "#creating EFetch handle\n",
    "filename = \"Curcuma longa complete genome.gbk\" #up to you, but Genbank files always use *.gb or *.gbk \n",
    "\n",
    "#creating EFetch handle\n",
    "if not os.path.isfile(filename):\n",
    "    # Downloading file...\n",
    "     efetch_handle = Entrez.efetch(db=\"nuccore\", id=\"1797021460\", rettype=\"gb\", retmode=\"text\")\n",
    "     output_file_handle = open(filename, \"w\")\n",
    "     output_file_handle.write(efetch_handle.read())\n",
    "     output_file_handle.close()\n",
    "     efetch_handle.close()\n",
    "print (\"GB Download\")\n"
   ]
  },
  {
   "cell_type": "code",
   "execution_count": 6,
   "id": "82bfca31-7d82-4160-9451-4f6e171d5517",
   "metadata": {},
   "outputs": [
    {
     "name": "stdout",
     "output_type": "stream",
     "text": [
      ">ATPF|Curcuma longa chloroplast, complete genome\n",
      "ATGACACGTTCACTAAAAAAAAACCCTTTTGTAGCTAATCATTTATCGGCAAAAATTGAAAAACTCAACACGAGGGAAGAGAAAGAAATAATAGTAACTTGGTCTCGGGCATCTACCATTATACCCACAATGATTGGCCATACAATCGCTATTCATAATGGAAAGGAACATTTACCTATTTATATAACGGATCGTATGGTGGGTCACAAATTGGGAGAATTTGCACCTACTCTGTCTTTTACGAGACATGCAAGAAACGATAATAAATCTCGTCGTTAA\n"
     ]
    }
   ],
   "source": [
    "from Bio import SeqIO\n",
    "\n",
    "GoI = \"ATPF\"\n",
    "\n",
    "for genome in SeqIO.parse(\"Curcuma longa complete genome.gbk\",\"genbank\"):\n",
    "    for gene in genome.features:\n",
    "        if gene.type != \"CDS\":\n",
    "            continue\n",
    "        if \"gene\" not in gene.qualifiers:\n",
    "            continue\n",
    "        if GoI not in gene.qualifiers[\"gene\"][0]: \n",
    "            continue\n",
    "    gene_seq = gene.extract(genome.seq)\n",
    "\n",
    "GoI_fasta = \">%s|%s\\n%s\" % (GoI, genome.description, gene_seq)\n",
    "print(GoI_fasta)\n"
   ]
  },
  {
   "cell_type": "code",
   "execution_count": 7,
   "id": "23d3a0fd-4ba5-4935-a938-5d8de6a3115f",
   "metadata": {
    "tags": []
   },
   "outputs": [],
   "source": [
    "from Bio import SeqIO\n",
    "\n",
    "GoI = \"ATPF\"\n",
    "\n",
    "for genome in SeqIO.parse(\"Curcuma longa complete genome.gbk\",\"genbank\"):\n",
    "    for gene in genome.features:\n",
    "        if gene.type != \"CDS\":\n",
    "            continue\n",
    "        if \"gene\" not in gene.qualifiers:\n",
    "            continue\n",
    "        if GoI not in gene.qualifiers[\"gene\"][0]: \n",
    "            continue\n",
    "    gene_seq = gene.extract(genome.seq)\n",
    "\n",
    "GoI_fasta = \">%s|%s\\n%s\" % (GoI, genome.description, gene_seq)\n",
    "with open(\"GoI_fasta.fasta\",\"w\") as f:    \n",
    "    f.write(GoI_fasta)"
   ]
  },
  {
   "cell_type": "code",
   "execution_count": null,
   "id": "5d4e91a5-9f86-40f9-94f2-2b79771db7a5",
   "metadata": {},
   "outputs": [],
   "source": []
  }
 ],
 "metadata": {
  "kernelspec": {
   "display_name": "Python 3 (ipykernel)",
   "language": "python",
   "name": "python3"
  },
  "language_info": {
   "codemirror_mode": {
    "name": "ipython",
    "version": 3
   },
   "file_extension": ".py",
   "mimetype": "text/x-python",
   "name": "python",
   "nbconvert_exporter": "python",
   "pygments_lexer": "ipython3",
   "version": "3.9.7"
  }
 },
 "nbformat": 4,
 "nbformat_minor": 5
}
